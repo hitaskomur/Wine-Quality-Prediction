{
 "cells": [
  {
   "cell_type": "code",
   "execution_count": 1,
   "id": "a1d7db8c",
   "metadata": {},
   "outputs": [],
   "source": [
    "import pandas as pd\n",
    "import numpy as np\n",
    "import matplotlib.pyplot as plt"
   ]
  },
  {
   "cell_type": "markdown",
   "id": "afc48998",
   "metadata": {},
   "source": [
    "### Importing Data"
   ]
  },
  {
   "cell_type": "code",
   "execution_count": 2,
   "id": "f1949943",
   "metadata": {},
   "outputs": [
    {
     "name": "stdout",
     "output_type": "stream",
     "text": [
      "Requirement already satisfied: ucimlrepo in c:\\anaconda\\lib\\site-packages (0.0.3)\n",
      "Note: you may need to restart the kernel to use updated packages.\n"
     ]
    }
   ],
   "source": [
    "pip install ucimlrepo"
   ]
  },
  {
   "cell_type": "code",
   "execution_count": 3,
   "id": "3cd9398a",
   "metadata": {},
   "outputs": [],
   "source": [
    "from ucimlrepo import fetch_ucirepo \n",
    "  \n",
    "# fetch dataset \n",
    "wine_quality = fetch_ucirepo(id=186) "
   ]
  },
  {
   "cell_type": "markdown",
   "id": "6b186e0e",
   "metadata": {},
   "source": [
    "### Feature Engineering"
   ]
  },
  {
   "cell_type": "code",
   "execution_count": 5,
   "id": "9645ae77",
   "metadata": {},
   "outputs": [
    {
     "data": {
      "text/html": [
       "<div>\n",
       "<style scoped>\n",
       "    .dataframe tbody tr th:only-of-type {\n",
       "        vertical-align: middle;\n",
       "    }\n",
       "\n",
       "    .dataframe tbody tr th {\n",
       "        vertical-align: top;\n",
       "    }\n",
       "\n",
       "    .dataframe thead th {\n",
       "        text-align: right;\n",
       "    }\n",
       "</style>\n",
       "<table border=\"1\" class=\"dataframe\">\n",
       "  <thead>\n",
       "    <tr style=\"text-align: right;\">\n",
       "      <th></th>\n",
       "      <th>fixed_acidity</th>\n",
       "      <th>volatile_acidity</th>\n",
       "      <th>citric_acid</th>\n",
       "      <th>residual_sugar</th>\n",
       "      <th>chlorides</th>\n",
       "      <th>free_sulfur_dioxide</th>\n",
       "      <th>total_sulfur_dioxide</th>\n",
       "      <th>density</th>\n",
       "      <th>pH</th>\n",
       "      <th>sulphates</th>\n",
       "      <th>alcohol</th>\n",
       "    </tr>\n",
       "  </thead>\n",
       "  <tbody>\n",
       "    <tr>\n",
       "      <th>0</th>\n",
       "      <td>7.4</td>\n",
       "      <td>0.70</td>\n",
       "      <td>0.00</td>\n",
       "      <td>1.9</td>\n",
       "      <td>0.076</td>\n",
       "      <td>11.0</td>\n",
       "      <td>34.0</td>\n",
       "      <td>0.9978</td>\n",
       "      <td>3.51</td>\n",
       "      <td>0.56</td>\n",
       "      <td>9.4</td>\n",
       "    </tr>\n",
       "    <tr>\n",
       "      <th>1</th>\n",
       "      <td>7.8</td>\n",
       "      <td>0.88</td>\n",
       "      <td>0.00</td>\n",
       "      <td>2.6</td>\n",
       "      <td>0.098</td>\n",
       "      <td>25.0</td>\n",
       "      <td>67.0</td>\n",
       "      <td>0.9968</td>\n",
       "      <td>3.20</td>\n",
       "      <td>0.68</td>\n",
       "      <td>9.8</td>\n",
       "    </tr>\n",
       "    <tr>\n",
       "      <th>2</th>\n",
       "      <td>7.8</td>\n",
       "      <td>0.76</td>\n",
       "      <td>0.04</td>\n",
       "      <td>2.3</td>\n",
       "      <td>0.092</td>\n",
       "      <td>15.0</td>\n",
       "      <td>54.0</td>\n",
       "      <td>0.9970</td>\n",
       "      <td>3.26</td>\n",
       "      <td>0.65</td>\n",
       "      <td>9.8</td>\n",
       "    </tr>\n",
       "    <tr>\n",
       "      <th>3</th>\n",
       "      <td>11.2</td>\n",
       "      <td>0.28</td>\n",
       "      <td>0.56</td>\n",
       "      <td>1.9</td>\n",
       "      <td>0.075</td>\n",
       "      <td>17.0</td>\n",
       "      <td>60.0</td>\n",
       "      <td>0.9980</td>\n",
       "      <td>3.16</td>\n",
       "      <td>0.58</td>\n",
       "      <td>9.8</td>\n",
       "    </tr>\n",
       "    <tr>\n",
       "      <th>4</th>\n",
       "      <td>7.4</td>\n",
       "      <td>0.70</td>\n",
       "      <td>0.00</td>\n",
       "      <td>1.9</td>\n",
       "      <td>0.076</td>\n",
       "      <td>11.0</td>\n",
       "      <td>34.0</td>\n",
       "      <td>0.9978</td>\n",
       "      <td>3.51</td>\n",
       "      <td>0.56</td>\n",
       "      <td>9.4</td>\n",
       "    </tr>\n",
       "  </tbody>\n",
       "</table>\n",
       "</div>"
      ],
      "text/plain": [
       "   fixed_acidity  volatile_acidity  citric_acid  residual_sugar  chlorides  \\\n",
       "0            7.4              0.70         0.00             1.9      0.076   \n",
       "1            7.8              0.88         0.00             2.6      0.098   \n",
       "2            7.8              0.76         0.04             2.3      0.092   \n",
       "3           11.2              0.28         0.56             1.9      0.075   \n",
       "4            7.4              0.70         0.00             1.9      0.076   \n",
       "\n",
       "   free_sulfur_dioxide  total_sulfur_dioxide  density    pH  sulphates  \\\n",
       "0                 11.0                  34.0   0.9978  3.51       0.56   \n",
       "1                 25.0                  67.0   0.9968  3.20       0.68   \n",
       "2                 15.0                  54.0   0.9970  3.26       0.65   \n",
       "3                 17.0                  60.0   0.9980  3.16       0.58   \n",
       "4                 11.0                  34.0   0.9978  3.51       0.56   \n",
       "\n",
       "   alcohol  \n",
       "0      9.4  \n",
       "1      9.8  \n",
       "2      9.8  \n",
       "3      9.8  \n",
       "4      9.4  "
      ]
     },
     "execution_count": 5,
     "metadata": {},
     "output_type": "execute_result"
    }
   ],
   "source": [
    "x = wine_quality.data.features\n",
    "y = wine_quality.data.targets\n",
    "x.head()"
   ]
  },
  {
   "cell_type": "markdown",
   "id": "8cdec078",
   "metadata": {},
   "source": [
    "### Creating Model"
   ]
  },
  {
   "cell_type": "markdown",
   "id": "cbe7ac78",
   "metadata": {},
   "source": [
    "import statsmodels.api as sm\n",
    "def backward_elemination(data,target,significance_level):\n",
    "    features = data.columns.tolist()\n",
    "    while(len(features)>0):\n",
    "        features_with_constant = sm.add_constant(data[features])\n",
    "        p_values = sm.OLS(target, features_with_constant).fit().pvalues[1:]\n",
    "        max_p_values = p_values.max()\n",
    "        if(max_p_values >= significance_level):\n",
    "            excluded_feature = p_values.idmax()\n",
    "            features.remove(excluded_feature)\n",
    "        else :\n",
    "            break\n",
    "    return features\n",
    "backward_elemination(x,y,0.005)"
   ]
  },
  {
   "cell_type": "code",
   "execution_count": 6,
   "id": "85709839",
   "metadata": {},
   "outputs": [],
   "source": [
    "from sklearn.linear_model import LinearRegression\n",
    "reg = LinearRegression()"
   ]
  },
  {
   "cell_type": "code",
   "execution_count": 7,
   "id": "a07d9465",
   "metadata": {},
   "outputs": [],
   "source": [
    "from sklearn.preprocessing import MinMaxScaler\n",
    "sc = MinMaxScaler()\n",
    "x = sc.fit_transform(x)"
   ]
  },
  {
   "cell_type": "code",
   "execution_count": 8,
   "id": "8870d4a6",
   "metadata": {},
   "outputs": [
    {
     "data": {
      "text/plain": [
       "(5522, 11)"
      ]
     },
     "execution_count": 8,
     "metadata": {},
     "output_type": "execute_result"
    }
   ],
   "source": [
    "from sklearn.model_selection import train_test_split\n",
    "x_train , x_test, y_train , y_test = train_test_split(x,y,test_size=0.15,random_state=0)\n",
    "x_train.shape"
   ]
  },
  {
   "cell_type": "code",
   "execution_count": 9,
   "id": "c8220daf",
   "metadata": {},
   "outputs": [
    {
     "data": {
      "text/html": [
       "<style>#sk-container-id-1 {color: black;background-color: white;}#sk-container-id-1 pre{padding: 0;}#sk-container-id-1 div.sk-toggleable {background-color: white;}#sk-container-id-1 label.sk-toggleable__label {cursor: pointer;display: block;width: 100%;margin-bottom: 0;padding: 0.3em;box-sizing: border-box;text-align: center;}#sk-container-id-1 label.sk-toggleable__label-arrow:before {content: \"▸\";float: left;margin-right: 0.25em;color: #696969;}#sk-container-id-1 label.sk-toggleable__label-arrow:hover:before {color: black;}#sk-container-id-1 div.sk-estimator:hover label.sk-toggleable__label-arrow:before {color: black;}#sk-container-id-1 div.sk-toggleable__content {max-height: 0;max-width: 0;overflow: hidden;text-align: left;background-color: #f0f8ff;}#sk-container-id-1 div.sk-toggleable__content pre {margin: 0.2em;color: black;border-radius: 0.25em;background-color: #f0f8ff;}#sk-container-id-1 input.sk-toggleable__control:checked~div.sk-toggleable__content {max-height: 200px;max-width: 100%;overflow: auto;}#sk-container-id-1 input.sk-toggleable__control:checked~label.sk-toggleable__label-arrow:before {content: \"▾\";}#sk-container-id-1 div.sk-estimator input.sk-toggleable__control:checked~label.sk-toggleable__label {background-color: #d4ebff;}#sk-container-id-1 div.sk-label input.sk-toggleable__control:checked~label.sk-toggleable__label {background-color: #d4ebff;}#sk-container-id-1 input.sk-hidden--visually {border: 0;clip: rect(1px 1px 1px 1px);clip: rect(1px, 1px, 1px, 1px);height: 1px;margin: -1px;overflow: hidden;padding: 0;position: absolute;width: 1px;}#sk-container-id-1 div.sk-estimator {font-family: monospace;background-color: #f0f8ff;border: 1px dotted black;border-radius: 0.25em;box-sizing: border-box;margin-bottom: 0.5em;}#sk-container-id-1 div.sk-estimator:hover {background-color: #d4ebff;}#sk-container-id-1 div.sk-parallel-item::after {content: \"\";width: 100%;border-bottom: 1px solid gray;flex-grow: 1;}#sk-container-id-1 div.sk-label:hover label.sk-toggleable__label {background-color: #d4ebff;}#sk-container-id-1 div.sk-serial::before {content: \"\";position: absolute;border-left: 1px solid gray;box-sizing: border-box;top: 0;bottom: 0;left: 50%;z-index: 0;}#sk-container-id-1 div.sk-serial {display: flex;flex-direction: column;align-items: center;background-color: white;padding-right: 0.2em;padding-left: 0.2em;position: relative;}#sk-container-id-1 div.sk-item {position: relative;z-index: 1;}#sk-container-id-1 div.sk-parallel {display: flex;align-items: stretch;justify-content: center;background-color: white;position: relative;}#sk-container-id-1 div.sk-item::before, #sk-container-id-1 div.sk-parallel-item::before {content: \"\";position: absolute;border-left: 1px solid gray;box-sizing: border-box;top: 0;bottom: 0;left: 50%;z-index: -1;}#sk-container-id-1 div.sk-parallel-item {display: flex;flex-direction: column;z-index: 1;position: relative;background-color: white;}#sk-container-id-1 div.sk-parallel-item:first-child::after {align-self: flex-end;width: 50%;}#sk-container-id-1 div.sk-parallel-item:last-child::after {align-self: flex-start;width: 50%;}#sk-container-id-1 div.sk-parallel-item:only-child::after {width: 0;}#sk-container-id-1 div.sk-dashed-wrapped {border: 1px dashed gray;margin: 0 0.4em 0.5em 0.4em;box-sizing: border-box;padding-bottom: 0.4em;background-color: white;}#sk-container-id-1 div.sk-label label {font-family: monospace;font-weight: bold;display: inline-block;line-height: 1.2em;}#sk-container-id-1 div.sk-label-container {text-align: center;}#sk-container-id-1 div.sk-container {/* jupyter's `normalize.less` sets `[hidden] { display: none; }` but bootstrap.min.css set `[hidden] { display: none !important; }` so we also need the `!important` here to be able to override the default hidden behavior on the sphinx rendered scikit-learn.org. See: https://github.com/scikit-learn/scikit-learn/issues/21755 */display: inline-block !important;position: relative;}#sk-container-id-1 div.sk-text-repr-fallback {display: none;}</style><div id=\"sk-container-id-1\" class=\"sk-top-container\"><div class=\"sk-text-repr-fallback\"><pre>LinearRegression()</pre><b>In a Jupyter environment, please rerun this cell to show the HTML representation or trust the notebook. <br />On GitHub, the HTML representation is unable to render, please try loading this page with nbviewer.org.</b></div><div class=\"sk-container\" hidden><div class=\"sk-item\"><div class=\"sk-estimator sk-toggleable\"><input class=\"sk-toggleable__control sk-hidden--visually\" id=\"sk-estimator-id-1\" type=\"checkbox\" checked><label for=\"sk-estimator-id-1\" class=\"sk-toggleable__label sk-toggleable__label-arrow\">LinearRegression</label><div class=\"sk-toggleable__content\"><pre>LinearRegression()</pre></div></div></div></div></div>"
      ],
      "text/plain": [
       "LinearRegression()"
      ]
     },
     "execution_count": 9,
     "metadata": {},
     "output_type": "execute_result"
    }
   ],
   "source": [
    "reg.fit(x_train,y_train)"
   ]
  },
  {
   "cell_type": "code",
   "execution_count": 10,
   "id": "ce2bb4f4",
   "metadata": {},
   "outputs": [
    {
     "name": "stdout",
     "output_type": "stream",
     "text": [
      "Train Score:  0.2930489486628255\n",
      "Test Score:  0.2861082684067934\n"
     ]
    }
   ],
   "source": [
    "#Checking the score  \n",
    "print('Train Score: ', reg.score(x_train, y_train))  \n",
    "print('Test Score: ', reg.score(x_test, y_test))  "
   ]
  },
  {
   "cell_type": "markdown",
   "id": "bb4532bb",
   "metadata": {},
   "source": [
    "### Testing"
   ]
  },
  {
   "cell_type": "code",
   "execution_count": 11,
   "id": "07e7de38",
   "metadata": {},
   "outputs": [
    {
     "data": {
      "text/plain": [
       "5"
      ]
     },
     "execution_count": 11,
     "metadata": {},
     "output_type": "execute_result"
    }
   ],
   "source": [
    "y_predict = reg.predict(x_test)\n",
    "round(y_predict[0][0])"
   ]
  },
  {
   "cell_type": "code",
   "execution_count": 12,
   "id": "68b45c1a",
   "metadata": {},
   "outputs": [
    {
     "data": {
      "text/plain": [
       "array([5, 6, 6, 5, 6, 6, 6, 6, 6, 6, 6, 6, 6, 5, 6, 7, 6, 5, 5, 6, 7, 6,\n",
       "       6, 6, 6, 6, 6, 6, 5, 5, 6, 6, 7, 6, 6, 6, 6, 7, 6, 6, 5, 6, 5, 6,\n",
       "       6, 5, 6, 5, 5, 6, 5, 6, 7, 6, 6, 6, 6, 6, 6, 6, 6, 6, 6, 5, 7, 7,\n",
       "       6, 5, 6, 6, 6, 5, 5, 6, 7, 5, 5, 6, 6, 6, 6, 6, 6, 6, 5, 5, 6, 5,\n",
       "       5, 6, 5, 6, 6, 6, 5, 6, 7, 6, 5, 6, 6, 5, 6, 5, 6, 6, 5, 6, 6, 5,\n",
       "       6, 6, 5, 7, 6, 6, 5, 5, 7, 6, 5, 7, 7, 6, 6, 5, 6, 6, 5, 6, 6, 6,\n",
       "       5, 6, 6, 6, 6, 6, 6, 6, 6, 6, 6, 5, 6, 5, 6, 6, 6, 6, 6, 6, 6, 7,\n",
       "       6, 6, 6, 7, 6, 7, 6, 6, 6, 7, 5, 6, 5, 5, 6, 6, 6, 5, 6, 7, 6, 6,\n",
       "       5, 5, 7, 6, 5, 6, 6, 7, 6, 6, 5, 6, 6, 7, 6, 6, 6, 5, 6, 6, 6, 6,\n",
       "       6, 6, 5, 6, 6, 6, 5, 6, 5, 5, 6, 5, 6, 6, 6, 6, 5, 5, 5, 6, 6, 6,\n",
       "       6, 6, 5, 6, 5, 6, 6, 6, 5, 6, 6, 6, 5, 6, 6, 5, 6, 6, 5, 6, 6, 5,\n",
       "       6, 6, 7, 6, 6, 6, 5, 7, 6, 6, 5, 6, 6, 5, 6, 6, 7, 7, 6, 5, 6, 6,\n",
       "       5, 5, 6, 6, 6, 6, 6, 7, 6, 6, 7, 6, 6, 6, 7, 6, 6, 7, 6, 5, 7, 6,\n",
       "       6, 6, 5, 6, 6, 6, 5, 6, 6, 5, 7, 6, 7, 7, 6, 6, 6, 6, 5, 6, 6, 6,\n",
       "       6, 6, 6, 6, 6, 6, 6, 5, 6, 7, 6, 6, 6, 5, 6, 5, 6, 5, 6, 6, 6, 5,\n",
       "       6, 6, 6, 6, 6, 5, 6, 6, 6, 5, 6, 6, 6, 6, 5, 6, 5, 6, 6, 5, 6, 6,\n",
       "       6, 6, 6, 5, 6, 5, 6, 6, 6, 5, 7, 6, 6, 6, 6, 6, 5, 6, 6, 5, 6, 6,\n",
       "       6, 7, 6, 6, 6, 5, 5, 6, 6, 6, 6, 6, 6, 5, 6, 7, 6, 6, 6, 6, 6, 6,\n",
       "       6, 6, 6, 6, 6, 5, 5, 6, 6, 6, 6, 5, 5, 6, 5, 7, 7, 6, 6, 7, 6, 6,\n",
       "       6, 6, 6, 5, 6, 6, 6, 5, 6, 6, 7, 5, 6, 5, 6, 5, 6, 5, 6, 5, 6, 5,\n",
       "       6, 6, 5, 5, 6, 5, 6, 5, 6, 7, 7, 5, 6, 6, 6, 6, 6, 6, 5, 5, 6, 6,\n",
       "       5, 6, 6, 7, 6, 6, 5, 5, 6, 6, 6, 6, 6, 6, 5, 6, 5, 5, 6, 6, 5, 6,\n",
       "       5, 6, 6, 6, 5, 6, 5, 6, 6, 6, 6, 5, 6, 5, 5, 7, 5, 6, 5, 5, 6, 7,\n",
       "       6, 6, 6, 6, 6, 6, 6, 5, 6, 5, 6, 6, 5, 6, 7, 5, 6, 6, 6, 6, 6, 5,\n",
       "       6, 5, 6, 5, 5, 6, 5, 6, 6, 6, 5, 6, 6, 6, 6, 6, 5, 6, 6, 5, 6, 6,\n",
       "       6, 6, 5, 5, 5, 6, 5, 6, 6, 5, 6, 5, 6, 6, 6, 6, 6, 5, 7, 5, 6, 6,\n",
       "       6, 5, 6, 6, 5, 6, 6, 6, 5, 6, 6, 5, 5, 6, 6, 6, 6, 6, 6, 6, 6, 6,\n",
       "       6, 7, 6, 6, 6, 5, 5, 6, 5, 6, 6, 6, 7, 6, 6, 6, 6, 6, 6, 6, 6, 6,\n",
       "       7, 5, 6, 6, 6, 6, 6, 5, 6, 6, 6, 5, 5, 5, 6, 5, 5, 6, 5, 7, 6, 5,\n",
       "       6, 5, 6, 5, 7, 6, 6, 7, 5, 6, 6, 6, 6, 5, 5, 6, 6, 5, 6, 5, 6, 6,\n",
       "       6, 6, 6, 6, 5, 6, 6, 6, 6, 5, 7, 6, 6, 6, 6, 6, 5, 6, 6, 6, 6, 6,\n",
       "       6, 6, 6, 5, 6, 6, 6, 6, 6, 6, 6, 4, 6, 5, 7, 6, 5, 6, 6, 6, 6, 6,\n",
       "       6, 6, 7, 6, 5, 5, 5, 6, 6, 7, 6, 6, 5, 6, 6, 5, 6, 7, 6, 6, 6, 5,\n",
       "       6, 6, 6, 5, 6, 6, 7, 5, 5, 5, 6, 6, 7, 5, 7, 5, 7, 6, 5, 5, 6, 6,\n",
       "       6, 6, 6, 6, 5, 6, 6, 7, 6, 6, 6, 6, 7, 7, 6, 6, 7, 6, 5, 6, 6, 6,\n",
       "       6, 6, 6, 5, 6, 6, 6, 6, 7, 7, 7, 6, 5, 6, 6, 5, 6, 6, 7, 6, 6, 5,\n",
       "       6, 5, 6, 7, 6, 5, 6, 5, 6, 7, 5, 6, 6, 5, 6, 5, 7, 6, 6, 6, 6, 6,\n",
       "       6, 5, 6, 6, 5, 6, 5, 6, 6, 6, 6, 6, 7, 6, 5, 7, 6, 5, 7, 6, 6, 6,\n",
       "       5, 6, 6, 6, 7, 6, 6, 6, 5, 5, 6, 6, 5, 6, 6, 6, 5, 6, 6, 6, 6, 6,\n",
       "       6, 6, 6, 6, 6, 5, 5, 6, 6, 6, 6, 5, 5, 5, 6, 7, 6, 6, 6, 7, 6, 6,\n",
       "       6, 5, 6, 6, 5, 7, 5, 6, 5, 6, 7, 5, 6, 6, 6, 7, 6, 6, 5, 6, 5, 5,\n",
       "       6, 5, 6, 6, 5, 7, 6, 6, 6, 6, 6, 5, 7, 6, 6, 6, 5, 6, 6, 6, 6, 6,\n",
       "       6, 6, 6, 5, 7, 6, 6, 6, 6, 6, 6, 6, 6, 7, 7, 6, 6, 5, 6, 5, 5, 5,\n",
       "       6, 5, 6, 6, 6, 5, 6, 6, 7, 7, 6, 6, 5, 6, 7, 6, 6, 5, 6, 6, 6, 6,\n",
       "       6, 5, 6, 6, 6, 6, 6])"
      ]
     },
     "execution_count": 12,
     "metadata": {},
     "output_type": "execute_result"
    }
   ],
   "source": [
    "y_predict_round = []\n",
    "for i in range(len(y_predict)):\n",
    "    y_predict_round.append(round(y_predict[i][0]))\n",
    "y_predict_round = np.array(y_predict_round)\n",
    "y_predict_round"
   ]
  },
  {
   "cell_type": "code",
   "execution_count": 13,
   "id": "5274ca7a",
   "metadata": {},
   "outputs": [
    {
     "data": {
      "text/plain": [
       "(975, 1)"
      ]
     },
     "execution_count": 13,
     "metadata": {},
     "output_type": "execute_result"
    }
   ],
   "source": [
    "y_test.shape"
   ]
  },
  {
   "cell_type": "markdown",
   "id": "fcd54a85",
   "metadata": {},
   "source": [
    "### Evaluate Accuracy"
   ]
  },
  {
   "cell_type": "code",
   "execution_count": 16,
   "id": "9b8956a1",
   "metadata": {},
   "outputs": [
    {
     "data": {
      "text/plain": [
       "0.5466666666666666"
      ]
     },
     "execution_count": 16,
     "metadata": {},
     "output_type": "execute_result"
    }
   ],
   "source": [
    "from sklearn.metrics import accuracy_score,mean_absolute_error,r2_score,confusion_matrix\n",
    "mean_absolute_error(y_test,y_predict_round)"
   ]
  },
  {
   "cell_type": "code",
   "execution_count": 17,
   "id": "7f448dbe",
   "metadata": {},
   "outputs": [
    {
     "data": {
      "text/plain": [
       "0.5087179487179487"
      ]
     },
     "execution_count": 17,
     "metadata": {},
     "output_type": "execute_result"
    }
   ],
   "source": [
    "accuracy_score(y_predict_round,y_test)"
   ]
  },
  {
   "cell_type": "code",
   "execution_count": 18,
   "id": "e2a0aa02",
   "metadata": {},
   "outputs": [
    {
     "data": {
      "text/plain": [
       "array([[  0,   0,   0,   0,   0,   0,   0],\n",
       "       [  0,   0,   1,   0,   0,   0,   0],\n",
       "       [  3,  18, 135,  77,   8,   0,   0],\n",
       "       [  2,  16, 166, 323, 114,  21,   0],\n",
       "       [  0,   0,   1,  41,  38,  10,   1],\n",
       "       [  0,   0,   0,   0,   0,   0,   0],\n",
       "       [  0,   0,   0,   0,   0,   0,   0]], dtype=int64)"
      ]
     },
     "execution_count": 18,
     "metadata": {},
     "output_type": "execute_result"
    }
   ],
   "source": [
    "confusion_matrix(y_predict_round,y_test)"
   ]
  }
 ],
 "metadata": {
  "kernelspec": {
   "display_name": "Python 3 (ipykernel)",
   "language": "python",
   "name": "python3"
  },
  "language_info": {
   "codemirror_mode": {
    "name": "ipython",
    "version": 3
   },
   "file_extension": ".py",
   "mimetype": "text/x-python",
   "name": "python",
   "nbconvert_exporter": "python",
   "pygments_lexer": "ipython3",
   "version": "3.10.9"
  }
 },
 "nbformat": 4,
 "nbformat_minor": 5
}
